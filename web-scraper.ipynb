{
 "cells": [
  {
   "cell_type": "code",
   "execution_count": 2,
   "metadata": {},
   "outputs": [
    {
     "name": "stdout",
     "output_type": "stream",
     "text": [
      "Elements saved to elements.json\n"
     ]
    }
   ],
   "source": [
    "import requests\n",
    "from bs4 import BeautifulSoup, Tag\n",
    "import json\n",
    "import re\n",
    "\n",
    "# URL to scrape\n",
    "url = \"https://www.nfsa.gov.au/collection/curated/sounds-australia\"\n",
    "\n",
    "# Send a GET request to the URL\n",
    "response = requests.get(url)\n",
    "\n",
    "# Parse the HTML content of the page\n",
    "soup = BeautifulSoup(response.content, 'html.parser')\n",
    "\n",
    "# Find the div with the specified ID\n",
    "\n",
    "\n",
    "# Convert the elements to a list of dictionaries\n",
    "elements_list = []\n",
    "def append_to_elements_list(div):\n",
    "    for element in elements:\n",
    "        children = element.find_all('a')\n",
    "        for child in children:\n",
    "            artist = list(child.next_siblings)[1] if len(list(child.next_siblings)) > 1 else None\n",
    "            if isinstance(artist, Tag):\n",
    "                artist = list(child.next_siblings)[2] if len(list(child.next_siblings)) > 1 else None\n",
    "                if isinstance(artist, Tag):\n",
    "                    artist = list(child.next_siblings)[3] if len(list(child.next_siblings)) > 1 else None\n",
    "                    if isinstance(artist, Tag):\n",
    "                        artist = list(child.next_siblings)[4] if len(list(child.next_siblings)) > 1 else None\n",
    "            elements_list.append({\n",
    "                'name': child.string if child.string is not None else child.text,\n",
    "                'description': \"description\",\n",
    "                'artist': artist.strip() if artist is not None else None,\n",
    "                'date_created': child.previous\n",
    "            })\n",
    "\n",
    "div_ids = ['accordion-1890s-to-1928135068', 'accordion-1930-to-1949135069', 'accordion-1950-to-1969135070', 'accordion-1971-to-1988135071', 'accordion-1990-to-2012135072']\n",
    "for div_id in div_ids:\n",
    "    div = soup.find('div', id=div_id)\n",
    "    elements = div.find_all('p')\n",
    "    append_to_elements_list(elements)\n",
    "\n",
    "# Save the elements to a JSON file\n",
    "with open('elements.json', 'w') as json_file:\n",
    "    json.dump(elements_list, json_file, indent=4)\n",
    "\n",
    "print(\"Elements saved to elements.json\")"
   ]
  },
  {
   "cell_type": "code",
   "execution_count": null,
   "metadata": {},
   "outputs": [],
   "source": [
    "for element in elements_list:\n",
    "\n",
    "    year = element['date_created'][:4]\n",
    "    if year.isdigit():\n",
    "        date_created = f\"{year}\"\n",
    "    else:\n",
    "        date_created = '2024'\n",
    "    data = {\n",
    "    'name': element[\"name\"],\n",
    "    'date_created': date_created,\n",
    "    \n",
    "}   \n",
    "    requests.post('http://127.0.0.1:8000/sounds', data=data)"
   ]
  },
  {
   "cell_type": "code",
   "execution_count": null,
   "metadata": {
    "vscode": {
     "languageId": "javascript"
    }
   },
   "outputs": [],
   "source": [
    "import requests\n",
    "\n",
    "url = 'http://127.0.0.1:8000/sounds/newer'\n",
    "headers = {\n",
    "    'accept': 'application/json',\n",
    "    'Content-Type': 'application/x-www-form-urlencoded'\n",
    "}\n",
    "data = {\n",
    "    'name': 'string',\n",
    "    'description': 'string',\n",
    "    'date_nominated': '2024-12-02T07:40:19.228Z',\n",
    "    'date_created': '2024-12-02T07:40:19.228Z'\n",
    "}\n",
    "\n",
    "response = requests.post(url, headers=headers, data=data)\n",
    "print(response.status_code)\n",
    "print(response.json())"
   ]
  },
  {
   "cell_type": "code",
   "execution_count": null,
   "metadata": {
    "vscode": {
     "languageId": "javascript"
    }
   },
   "outputs": [],
   "source": [
    "url = 'http://127.0.0.1:8000/sounds/query'\n",
    "for element in elements_list:\n",
    "    data = {\n",
    "        \"name\": element[\"name\"]}\n",
    "    response = requests.get(url+?name=, data=data)"
   ]
  },
  {
   "cell_type": "code",
   "execution_count": null,
   "metadata": {
    "vscode": {
     "languageId": "javascript"
    }
   },
   "outputs": [],
   "source": []
  }
 ],
 "metadata": {
  "kernelspec": {
   "display_name": "legendary-octo-guide-IjkJwO-G-py3.13",
   "language": "python",
   "name": "python3"
  },
  "language_info": {
   "codemirror_mode": {
    "name": "ipython",
    "version": 3
   },
   "file_extension": ".py",
   "mimetype": "text/x-python",
   "name": "python",
   "nbconvert_exporter": "python",
   "pygments_lexer": "ipython3",
   "version": "3.13.0"
  }
 },
 "nbformat": 4,
 "nbformat_minor": 2
}
